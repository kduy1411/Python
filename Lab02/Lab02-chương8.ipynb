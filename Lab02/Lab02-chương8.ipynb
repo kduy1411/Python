{
  "nbformat": 4,
  "nbformat_minor": 0,
  "metadata": {
    "colab": {
      "name": "Lab02.ipynb",
      "provenance": [],
      "authorship_tag": "ABX9TyPQirQxl4gbErMvqxX2Couj",
      "include_colab_link": true
    },
    "kernelspec": {
      "name": "python3",
      "display_name": "Python 3"
    },
    "language_info": {
      "name": "python"
    }
  },
  "cells": [
    {
      "cell_type": "markdown",
      "metadata": {
        "id": "view-in-github",
        "colab_type": "text"
      },
      "source": [
        "<a href=\"https://colab.research.google.com/github/kduy1411/Python/blob/main/Lab02/Lab02-ch%C6%B0%C6%A1ng8.ipynb\" target=\"_parent\"><img src=\"https://colab.research.google.com/assets/colab-badge.svg\" alt=\"Open In Colab\"/></a>"
      ]
    },
    {
      "cell_type": "code",
      "metadata": {
        "id": "5Nfa1SIbaL92"
      },
      "source": [
        " kingdoms = ['Bacteria', 'Protozoa', 'Chromista', \n",
        "'Plantae', 'Fungi','Animalia']"
      ],
      "execution_count": 5,
      "outputs": []
    },
    {
      "cell_type": "markdown",
      "metadata": {
        "id": "QWM50XUMVbob"
      },
      "source": [
        "bt1"
      ]
    },
    {
      "cell_type": "code",
      "metadata": {
        "id": "o7R9d5q3aKnP",
        "outputId": "a4624e58-950d-45fd-9ebc-c95273049b9a",
        "colab": {
          "base_uri": "https://localhost:8080/"
        }
      },
      "source": [
        "#1a\n",
        "print(\"kingdoms[0]: \",kingdoms[0])\n",
        "#1b\n",
        "print(\"kingdoms[5]: \",kingdoms[5])\n",
        "#1c\n",
        "print(\"kingdoms[:3]: \",kingdoms[:3])\n",
        "#1d\n",
        "print(\"kingdoms[2:5]: \",kingdoms[2:5])\n",
        "#1e\n",
        "print(\"kingdoms[4:]: \",kingdoms[4:])\n",
        "#1f\n",
        "print(\"kingdoms[1:0]: \",kingdoms[1:0])"
      ],
      "execution_count": 7,
      "outputs": [
        {
          "output_type": "stream",
          "name": "stdout",
          "text": [
            "kingdoms[0]:  Bacteria\n",
            "kingdoms[5]:  Animalia\n",
            "kingdoms[:3]:  ['Bacteria', 'Protozoa', 'Chromista']\n",
            "kingdoms[2:5]:  ['Chromista', 'Plantae', 'Fungi']\n",
            "kingdoms[4:]:  ['Fungi', 'Animalia']\n",
            "kingdoms[1:0]:  []\n"
          ]
        }
      ]
    },
    {
      "cell_type": "markdown",
      "metadata": {
        "id": "KrTFkX56alT3"
      },
      "source": [
        "bt2"
      ]
    },
    {
      "cell_type": "code",
      "metadata": {
        "id": "OlB43ZJIanMd",
        "outputId": "677bccb9-3a45-4849-c495-46593b1da41b",
        "colab": {
          "base_uri": "https://localhost:8080/"
        }
      },
      "source": [
        "#2a\n",
        "print(\"kingdoms[-6]: \",kingdoms[-6])\n",
        "#2b\n",
        "print(\"kingdoms[-1]: \",kingdoms[-1])\n",
        "#2c\n",
        "print(\"kingdoms[-6:-3]: \",kingdoms[-6:-3])\n",
        "#2d\n",
        "print(\"kingdoms[-4:-1]: \",kingdoms[-4:-1])"
      ],
      "execution_count": 9,
      "outputs": [
        {
          "output_type": "stream",
          "name": "stdout",
          "text": [
            "kingdoms[-6]:  Bacteria\n",
            "kingdoms[-1]:  Animalia\n",
            "kingdoms[-6:-3]:  ['Bacteria', 'Protozoa', 'Chromista']\n",
            "kingdoms[-4:-1]:  ['Chromista', 'Plantae', 'Fungi']\n"
          ]
        }
      ]
    },
    {
      "cell_type": "markdown",
      "metadata": {
        "id": "y7xpaaWMbnHh"
      },
      "source": [
        "bt3"
      ]
    },
    {
      "cell_type": "code",
      "metadata": {
        "id": "Lnk6SDadbqQh"
      },
      "source": [
        "appointments = ['9:00', '10:30', '14:00', '15:00', '15:30']\n"
      ],
      "execution_count": 10,
      "outputs": []
    },
    {
      "cell_type": "code",
      "metadata": {
        "id": "cygUDUpNb53l",
        "outputId": "09862622-7d6e-4587-9608-906ba4832e5b",
        "colab": {
          "base_uri": "https://localhost:8080/"
        }
      },
      "source": [
        "#3a"
      ],
      "execution_count": 13,
      "outputs": [
        {
          "output_type": "stream",
          "name": "stdout",
          "text": [
            "None\n"
          ]
        }
      ]
    }
  ]
}