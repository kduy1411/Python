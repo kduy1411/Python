{
  "nbformat": 4,
  "nbformat_minor": 0,
  "metadata": {
    "colab": {
      "name": "Lab02.ipynb",
      "provenance": [],
      "authorship_tag": "ABX9TyP2ea+9HpXqDYFCpEEKqeJe",
      "include_colab_link": true
    },
    "kernelspec": {
      "name": "python3",
      "display_name": "Python 3"
    },
    "language_info": {
      "name": "python"
    }
  },
  "cells": [
    {
      "cell_type": "markdown",
      "metadata": {
        "id": "view-in-github",
        "colab_type": "text"
      },
      "source": [
        "<a href=\"https://colab.research.google.com/github/kduy1411/Python/blob/main/Lab02/Lab02-ch%C6%B0%C6%A1ng8.ipynb\" target=\"_parent\"><img src=\"https://colab.research.google.com/assets/colab-badge.svg\" alt=\"Open In Colab\"/></a>"
      ]
    },
    {
      "cell_type": "code",
      "metadata": {
        "id": "5Nfa1SIbaL92"
      },
      "source": [
        " kingdoms = ['Bacteria', 'Protozoa', 'Chromista', \n",
        "'Plantae', 'Fungi','Animalia']"
      ],
      "execution_count": null,
      "outputs": []
    },
    {
      "cell_type": "markdown",
      "metadata": {
        "id": "QWM50XUMVbob"
      },
      "source": [
        "bt1"
      ]
    },
    {
      "cell_type": "code",
      "metadata": {
        "id": "o7R9d5q3aKnP",
        "colab": {
          "base_uri": "https://localhost:8080/"
        },
        "outputId": "a4624e58-950d-45fd-9ebc-c95273049b9a"
      },
      "source": [
        "#1a\n",
        "print(\"kingdoms[0]: \",kingdoms[0])\n",
        "#1b\n",
        "print(\"kingdoms[5]: \",kingdoms[5])\n",
        "#1c\n",
        "print(\"kingdoms[:3]: \",kingdoms[:3])\n",
        "#1d\n",
        "print(\"kingdoms[2:5]: \",kingdoms[2:5])\n",
        "#1e\n",
        "print(\"kingdoms[4:]: \",kingdoms[4:])\n",
        "#1f\n",
        "print(\"kingdoms[1:0]: \",kingdoms[1:0])"
      ],
      "execution_count": null,
      "outputs": [
        {
          "output_type": "stream",
          "name": "stdout",
          "text": [
            "kingdoms[0]:  Bacteria\n",
            "kingdoms[5]:  Animalia\n",
            "kingdoms[:3]:  ['Bacteria', 'Protozoa', 'Chromista']\n",
            "kingdoms[2:5]:  ['Chromista', 'Plantae', 'Fungi']\n",
            "kingdoms[4:]:  ['Fungi', 'Animalia']\n",
            "kingdoms[1:0]:  []\n"
          ]
        }
      ]
    },
    {
      "cell_type": "markdown",
      "metadata": {
        "id": "KrTFkX56alT3"
      },
      "source": [
        "bt2"
      ]
    },
    {
      "cell_type": "code",
      "metadata": {
        "id": "OlB43ZJIanMd",
        "colab": {
          "base_uri": "https://localhost:8080/"
        },
        "outputId": "677bccb9-3a45-4849-c495-46593b1da41b"
      },
      "source": [
        "#2a\n",
        "print(\"kingdoms[-6]: \",kingdoms[-6])\n",
        "#2b\n",
        "print(\"kingdoms[-1]: \",kingdoms[-1])\n",
        "#2c\n",
        "print(\"kingdoms[-6:-3]: \",kingdoms[-6:-3])\n",
        "#2d\n",
        "print(\"kingdoms[-4:-1]: \",kingdoms[-4:-1])"
      ],
      "execution_count": null,
      "outputs": [
        {
          "output_type": "stream",
          "name": "stdout",
          "text": [
            "kingdoms[-6]:  Bacteria\n",
            "kingdoms[-1]:  Animalia\n",
            "kingdoms[-6:-3]:  ['Bacteria', 'Protozoa', 'Chromista']\n",
            "kingdoms[-4:-1]:  ['Chromista', 'Plantae', 'Fungi']\n"
          ]
        }
      ]
    },
    {
      "cell_type": "markdown",
      "metadata": {
        "id": "y7xpaaWMbnHh"
      },
      "source": [
        "bt3"
      ]
    },
    {
      "cell_type": "code",
      "metadata": {
        "id": "Lnk6SDadbqQh",
        "outputId": "7a8323c7-6c3f-49b2-a82f-efa96115fad8",
        "colab": {
          "base_uri": "https://localhost:8080/"
        }
      },
      "source": [
        "appointments = ['9:00', '10:30', '14:00', '15:00', '15:30']\n",
        "appointments.append('16:30')\n",
        "appointments"
      ],
      "execution_count": 1,
      "outputs": [
        {
          "output_type": "execute_result",
          "data": {
            "text/plain": [
              "['9:00', '10:30', '14:00', '15:00', '15:30', '16:30']"
            ]
          },
          "metadata": {},
          "execution_count": 1
        }
      ]
    },
    {
      "cell_type": "markdown",
      "metadata": {
        "id": "sVeRNx83meK7"
      },
      "source": [
        "bt4"
      ]
    },
    {
      "cell_type": "code",
      "metadata": {
        "id": "WsH5f2DPmfAN",
        "outputId": "019fd6fd-7a14-440b-fc39-1161423aa756",
        "colab": {
          "base_uri": "https://localhost:8080/"
        }
      },
      "source": [
        "ids =[4353, 2314, 2956, 3382, 9362, 3900]\n",
        "#4a \n",
        "ids.remove(3382)\n",
        "print(ids)\n",
        "#4b\n",
        "ids.index(9362)\n",
        "print(ids)\n",
        "#4c \n",
        "ids.insert(ids.index(9362) + 1, 4499)\n",
        "print(ids)\n",
        "#4d\n",
        "ids = ids + [5566, 1830]\n",
        "print(ids)\n",
        "#4e. \n",
        "ids.reverse()\n",
        "print(ids)\n",
        "#4f \n",
        "ids.sort()\n",
        "print(ids)"
      ],
      "execution_count": 3,
      "outputs": [
        {
          "output_type": "stream",
          "name": "stdout",
          "text": [
            "[4353, 2314, 2956, 9362, 3900]\n",
            "[4353, 2314, 2956, 9362, 3900]\n",
            "[4353, 2314, 2956, 9362, 4499, 3900]\n",
            "[4353, 2314, 2956, 9362, 4499, 3900, 5566, 1830]\n",
            "[1830, 5566, 3900, 4499, 9362, 2956, 2314, 4353]\n",
            "[1830, 2314, 2956, 3900, 4353, 4499, 5566, 9362]\n"
          ]
        }
      ]
    },
    {
      "cell_type": "markdown",
      "metadata": {
        "id": "CBY8RFGBmg_d"
      },
      "source": [
        "bt5"
      ]
    },
    {
      "cell_type": "code",
      "metadata": {
        "id": "T7XwNYsPmlnX",
        "outputId": "0345d378-f22d-45f8-c90f-18d0fcbcac2e",
        "colab": {
          "base_uri": "https://localhost:8080/"
        }
      },
      "source": [
        "alkaline_earth_metals = ['metals—beryllium','magnesium', ' calcium',' strontium','barium','radium']\n",
        "#5a\n",
        "alkaline_earth_metals = [4, 12, 20, 38, 56, 88]\n",
        "#5b \n",
        "print(alkaline_earth_metals[5], alkaline_earth_metals[-1])\n",
        "#5c \n",
        "print(len(alkaline_earth_metals))\n",
        "#5d\n",
        "print(max(alkaline_earth_metals))"
      ],
      "execution_count": 4,
      "outputs": [
        {
          "output_type": "stream",
          "name": "stdout",
          "text": [
            "88 88\n",
            "6\n",
            "88\n"
          ]
        }
      ]
    },
    {
      "cell_type": "markdown",
      "metadata": {
        "id": "3c9JVH9nmxai"
      },
      "source": [
        "bt6"
      ]
    },
    {
      "cell_type": "code",
      "metadata": {
        "id": "HyErh2qemyKN",
        "outputId": "b4651ce9-1463-4e2c-f6eb-7bcfd2d386e8",
        "colab": {
          "base_uri": "https://localhost:8080/"
        }
      },
      "source": [
        "#6a\n",
        "temps = [25.2, 16.8, 31.4, 23.9, 28, 22.5, 19.6]\n",
        "print(temps)\n",
        "#6b\n",
        "temps.sort()\n",
        "print(temps)\n",
        "#6c\n",
        "cool_temps = temps[0:2]\n",
        "print(cool_temps)\n",
        "warm_temps = temps[2:]\n",
        "print(warm_temps)\n",
        "#6d \n",
        "temps_in_celsius = cool_temps + warm_temps\n",
        "print(temps_in_celsius)"
      ],
      "execution_count": 5,
      "outputs": [
        {
          "output_type": "stream",
          "name": "stdout",
          "text": [
            "[25.2, 16.8, 31.4, 23.9, 28, 22.5, 19.6]\n",
            "[16.8, 19.6, 22.5, 23.9, 25.2, 28, 31.4]\n",
            "[16.8, 19.6]\n",
            "[22.5, 23.9, 25.2, 28, 31.4]\n",
            "[16.8, 19.6, 22.5, 23.9, 25.2, 28, 31.4]\n"
          ]
        }
      ]
    },
    {
      "cell_type": "markdown",
      "metadata": {
        "id": "WFXnhdBSm7g3"
      },
      "source": [
        "bt7"
      ]
    },
    {
      "cell_type": "code",
      "metadata": {
        "id": "jLZNrinjm8N_",
        "outputId": "d68c5699-ae21-4edc-bf11-8bf99cf3ac0c",
        "colab": {
          "base_uri": "https://localhost:8080/"
        }
      },
      "source": [
        "def same_first_last(L : list ) -> bool:\n",
        "  if len(L) >= 2 and L[0] == L[-1]:\n",
        "    print(True)\n",
        "  else:\n",
        "    print(False)\n",
        "\n",
        "same_first_last([3, 4, 2, 8, 3])\n",
        "same_first_last(['apple', 'banana', 'pear'])\n",
        "same_first_last([4.0, 4.5])"
      ],
      "execution_count": 6,
      "outputs": [
        {
          "output_type": "stream",
          "name": "stdout",
          "text": [
            "True\n",
            "False\n",
            "False\n"
          ]
        }
      ]
    },
    {
      "cell_type": "markdown",
      "metadata": {
        "id": "uoKSvasBm89s"
      },
      "source": [
        "bt8"
      ]
    },
    {
      "cell_type": "code",
      "metadata": {
        "id": "JMzPfFPJm-Ok",
        "outputId": "97234cfa-fb16-47bd-cc9f-35a1ca71c7cf",
        "colab": {
          "base_uri": "https://localhost:8080/"
        }
      },
      "source": [
        "def is_longer(L1: list, L2: list) -> bool:\n",
        "  if len(L1) > len(L2):\n",
        "    print(True)\n",
        "  else:\n",
        "    print(False)\n",
        "is_longer([1, 2, 3], [4, 5])\n",
        "is_longer(['abcdef'], ['ab', 'cd', 'ef'])\n",
        "is_longer(['a', 'b', 'c'], [1, 2, 3])"
      ],
      "execution_count": 7,
      "outputs": [
        {
          "output_type": "stream",
          "name": "stdout",
          "text": [
            "True\n",
            "False\n",
            "False\n"
          ]
        }
      ]
    },
    {
      "cell_type": "markdown",
      "metadata": {
        "id": "35Ie7tksnAZ4"
      },
      "source": [
        "bt9"
      ]
    },
    {
      "cell_type": "code",
      "metadata": {
        "id": "FN1xKQmznB4z"
      },
      "source": [
        "values = [0, 1, 2]\n",
        "values[1] = values"
      ],
      "execution_count": 8,
      "outputs": []
    },
    {
      "cell_type": "markdown",
      "metadata": {
        "id": "7tjGyXs4nFhB"
      },
      "source": [
        "bt10"
      ]
    },
    {
      "cell_type": "code",
      "metadata": {
        "id": "7q-HuSnTnGhY",
        "outputId": "db152a98-5532-4c5a-c918-7711295ed0c0",
        "colab": {
          "base_uri": "https://localhost:8080/"
        }
      },
      "source": [
        "units =[['km', 'miles', 'league'],['kg', 'pound', 'stone']]\n",
        "#10a\n",
        "print(units[0])\n",
        "#10b \n",
        "print(units[-1] or units[1])\n",
        "#10c \n",
        "print(units[0][0])\n",
        "#10d \n",
        "print(units[1][0])\n",
        "#10e\n",
        "print(units[0][1:])\n",
        "#10f\n",
        "print(units[1][0:2])"
      ],
      "execution_count": 9,
      "outputs": [
        {
          "output_type": "stream",
          "name": "stdout",
          "text": [
            "['km', 'miles', 'league']\n",
            "['kg', 'pound', 'stone']\n",
            "km\n",
            "kg\n",
            "['miles', 'league']\n",
            "['kg', 'pound']\n"
          ]
        }
      ]
    },
    {
      "cell_type": "markdown",
      "metadata": {
        "id": "8UTmgj3dnIRf"
      },
      "source": [
        "bt11"
      ]
    },
    {
      "cell_type": "code",
      "metadata": {
        "id": "1UjWmNy9nJJy"
      },
      "source": [
        "units =[['km', 'miles', 'league'],['kg', 'pound', 'stone']]\n",
        "#11a\n",
        "print(units[-2])\n",
        "#11b\n",
        "print(units[-1])\n",
        "#11c. \n",
        "print(units[-2][-3])\n",
        "#11d\n",
        "print(units[-1][-3])\n",
        "#11e\n",
        "print(units[-2][-2:])\n",
        "#11f \n",
        "print(units[-1][:-1])"
      ],
      "execution_count": null,
      "outputs": []
    }
  ]
}