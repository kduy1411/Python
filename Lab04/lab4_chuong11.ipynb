{
  "nbformat": 4,
  "nbformat_minor": 0,
  "metadata": {
    "colab": {
      "name": "lab4-chuong11.ipynb",
      "provenance": [],
      "authorship_tag": "ABX9TyNy++7dvgQIrlM4KDWdxJnD",
      "include_colab_link": true
    },
    "kernelspec": {
      "name": "python3",
      "display_name": "Python 3"
    },
    "language_info": {
      "name": "python"
    }
  },
  "cells": [
    {
      "cell_type": "markdown",
      "metadata": {
        "id": "view-in-github",
        "colab_type": "text"
      },
      "source": [
        "<a href=\"https://colab.research.google.com/github/kduy1411/Python/blob/main/Lab04/lab4_chuong11.ipynb\" target=\"_parent\"><img src=\"https://colab.research.google.com/assets/colab-badge.svg\" alt=\"Open In Colab\"/></a>"
      ]
    },
    {
      "cell_type": "markdown",
      "metadata": {
        "id": "VAk_t1N4JxUQ"
      },
      "source": [
        "bt1"
      ]
    },
    {
      "cell_type": "code",
      "metadata": {
        "colab": {
          "base_uri": "https://localhost:8080/"
        },
        "id": "lqB1gBYDJ2FU",
        "outputId": "e2502843-a8b8-4a64-ab71-ea05b1111cc2"
      },
      "source": [
        "def find_dups(L):\n",
        "    elem_set = set()\n",
        "    dups_set = set()\n",
        "    for entry in L:\n",
        "        len_initial = len(elem_set)\n",
        "        elem_set.add(entry)\n",
        "        len_after = len(elem_set)\n",
        "        if len_initial == len_after:\n",
        "            dups_set.add(entry)\n",
        "    return(dups_set)\n",
        "list_integers = [1,1,2,2,3,3,4,5,6,7,8,9]\n",
        "find_dups(list_integers)"
      ],
      "execution_count": 1,
      "outputs": [
        {
          "output_type": "execute_result",
          "data": {
            "text/plain": [
              "{1, 2, 3}"
            ]
          },
          "metadata": {},
          "execution_count": 1
        }
      ]
    },
    {
      "cell_type": "markdown",
      "metadata": {
        "id": "SRz5nv9sM7sY"
      },
      "source": [
        "bt2"
      ]
    },
    {
      "cell_type": "code",
      "metadata": {
        "colab": {
          "base_uri": "https://localhost:8080/"
        },
        "id": "UbbEIYhJM8TL",
        "outputId": "038aac55-a1c0-4338-948b-45319c083117"
      },
      "source": [
        "def read_molecule(reader):\n",
        "    \n",
        "    line = reader.readline()\n",
        "    if not line:\n",
        "        return None\n",
        "\n",
        "    key, name = line.split()\n",
        "\n",
        "    molecule = [name]\n",
        "    line = reader.readline()\n",
        "    \n",
        "   \n",
        "    while not line.startswith('END'):\n",
        "        key, num, atom_type, x, y, z = line.split()\n",
        "        molecule.append([atom_type, x, y, z])\n",
        "        line = reader.readline()\n",
        "    return molecule\n",
        "\n",
        "def read_all_molecules(reader):\n",
        "    result = []\n",
        "    reading = True\n",
        "    while reading:\n",
        "        molecule = read_molecule(reader)\n",
        "        if molecule: \n",
        "            result.append(molecule)\n",
        "        else:\n",
        "            reading = False\n",
        "    return result\n",
        "if __name__ == \"__main__\":\n",
        "    molecule_file = open('multimol.pdb','r')\n",
        "    molecules = read_all_molecules(molecule_file)\n",
        "    print(molecules)"
      ],
      "execution_count": 2,
      "outputs": [
        {
          "output_type": "stream",
          "name": "stdout",
          "text": [
            "[['AMMONIA', ['N', '0.257', '-0.363', '0.000'], ['H', '0.257', '0.727', '0.000'], ['H', '0.771', '-0.727', '0.890'], ['H', '0.771', '-0.727', '-0.890']], ['METHANOL', ['C', '-0.748', '-0.015', '0.024'], ['O', '0.558', '0.420', '-0.278'], ['H', '-1.293', '-0.202', '-0.901'], ['H', '-1.263', '0.754', '0.600'], ['H', '-0.699', '-0.934', '0.609'], ['H', '0.716', '1.404', '0.137']]]\n"
          ]
        }
      ]
    },
    {
      "cell_type": "markdown",
      "metadata": {
        "id": "-NZAJn4RNSHM"
      },
      "source": [
        "bt3"
      ]
    },
    {
      "cell_type": "code",
      "metadata": {
        "colab": {
          "base_uri": "https://localhost:8080/"
        },
        "id": "McMeGjMtNYw1",
        "outputId": "d6a25d8c-cdcf-4303-9800-d4e7f9adabeb"
      },
      "source": [
        "def mating_pairs(males, females):\n",
        "    try:\n",
        "        pairs = set()\n",
        "        num_gerbils = len(males)\n",
        "        for i in range(num_gerbils):\n",
        "            male = males.pop()\n",
        "            female = females.pop()\n",
        "            pairs.add((male, female),)\n",
        "        return pairs\n",
        "    except:\n",
        "        return print(\"Số lượng Males và Females phải bằng nhau\")\n",
        "males = {'Nam1', 'Nam2', 'Nam3'}\n",
        "females = {'Nu1', 'Nu2', 'Nu3'}\n",
        "mating_pairs(males, females)"
      ],
      "execution_count": 16,
      "outputs": [
        {
          "output_type": "execute_result",
          "data": {
            "text/plain": [
              "{('Nam1', 'Nu2'), ('Nam2', 'Nu1'), ('Nam3', 'Nu3')}"
            ]
          },
          "metadata": {},
          "execution_count": 16
        }
      ]
    },
    {
      "cell_type": "markdown",
      "metadata": {
        "id": "jclOvs-YNZxx"
      },
      "source": [
        "bt4"
      ]
    },
    {
      "cell_type": "code",
      "metadata": {
        "colab": {
          "base_uri": "https://localhost:8080/"
        },
        "id": "85TFg5VFNcwi",
        "outputId": "d871c78d-b8c3-4cb0-e9bd-3a243475c2d7"
      },
      "source": [
        "def get_authors(filenames):\n",
        "    authors = set()\n",
        "    for filename in filenames:\n",
        "        for line in open(filename,'r'):\n",
        "            if line.lower().startswith('author'):\n",
        "                author = line[6:].strip()\n",
        "                authors.add(author)\n",
        "    return authors\n",
        "if __name__ == \"__main__\":\n",
        "    list_file = ['PDB_1.pdb','PDB_2.pdb']\n",
        "    print(get_authors(list_file))"
      ],
      "execution_count": 15,
      "outputs": [
        {
          "output_type": "stream",
          "name": "stdout",
          "text": [
            "{'Nguyen Khuong Duy', 'J.K.Rowling'}\n"
          ]
        }
      ]
    },
    {
      "cell_type": "markdown",
      "metadata": {
        "id": "zeScu8DSURnD"
      },
      "source": [
        "bt5"
      ]
    },
    {
      "cell_type": "code",
      "metadata": {
        "colab": {
          "base_uri": "https://localhost:8080/"
        },
        "id": "GKx2gqB6USb6",
        "outputId": "367e4234-67cc-4b9b-d575-c1a83bfd0677"
      },
      "source": [
        "from typing import Dict\n",
        "def count_values(inDict: Dict) -> int:\n",
        "    \n",
        "    finalList = []\n",
        "\n",
        "    for i in inDict.values():\n",
        "        if i not in finalList:\n",
        "            finalList.append(i)\n",
        "    \n",
        "    return len(finalList)\n",
        "\n",
        "\n",
        "\n",
        "color = {'red':1,'green':1,'blue':2}\n",
        "\n",
        "print(count_values(color))"
      ],
      "execution_count": 14,
      "outputs": [
        {
          "output_type": "stream",
          "name": "stdout",
          "text": [
            "2\n"
          ]
        }
      ]
    },
    {
      "cell_type": "markdown",
      "metadata": {
        "id": "pHNTi2uoUS-P"
      },
      "source": [
        "bt6"
      ]
    },
    {
      "cell_type": "code",
      "metadata": {
        "colab": {
          "base_uri": "https://localhost:8080/"
        },
        "id": "YZPA64QkUTtH",
        "outputId": "f670877d-0ec0-4353-a7c2-4b8cf38c2cc2"
      },
      "source": [
        "from typing import Dict\n",
        "def leastProbable(particleDict: Dict[str, float]) -> str:\n",
        "    minValue = min(particleDict.values())\n",
        "    printValue = ''\n",
        "    for key,value in particleDict.items():\n",
        "        if value == minValue:\n",
        "            return key\n",
        "\n",
        "\n",
        "values = { 'neutron ': 0.55,  'proton ': 0.21,  'meson ': 0.03,  'muon ': 0.07,  'neutrino ': 0.14}\n",
        "print(leastProbable(values))"
      ],
      "execution_count": 13,
      "outputs": [
        {
          "output_type": "stream",
          "name": "stdout",
          "text": [
            "meson \n"
          ]
        }
      ]
    },
    {
      "cell_type": "markdown",
      "metadata": {
        "id": "PcaXtGV6UV4k"
      },
      "source": [
        "bt7"
      ]
    },
    {
      "cell_type": "code",
      "metadata": {
        "colab": {
          "base_uri": "https://localhost:8080/"
        },
        "id": "GbdD3Y-FUWjT",
        "outputId": "e7096c75-d6ac-41d0-abe5-bd38f5d0f690"
      },
      "source": [
        "def count_duplicates(inDict) -> int:\n",
        "\n",
        "    lstAllValues = []\n",
        "    lstAdditional = []\n",
        "    lstFinal = []\n",
        "\n",
        "    for i in inDict.values():\n",
        "        lstAllValues.append(i)\n",
        "        lstAdditional.append(i)\n",
        "    \n",
        "    lstFinal = set(lstAllValues).intersection(lstAdditional)\n",
        "\n",
        "    return(len(lstAllValues) - len(lstFinal))\n",
        "\n",
        "\n",
        "number = {'one' : 1, 'two' : 2, 'two1' : 2, 'three1' : 3,'three' : 3}\n",
        "\n",
        "print(count_duplicates(number))"
      ],
      "execution_count": 12,
      "outputs": [
        {
          "output_type": "stream",
          "name": "stdout",
          "text": [
            "2\n"
          ]
        }
      ]
    },
    {
      "cell_type": "markdown",
      "metadata": {
        "id": "oVhLVVvBUbWi"
      },
      "source": [
        "bt8"
      ]
    },
    {
      "cell_type": "code",
      "metadata": {
        "colab": {
          "base_uri": "https://localhost:8080/"
        },
        "id": "NfWV2bOkUcFG",
        "outputId": "c0251d53-fa71-49d8-897b-6c9c3755b5e2"
      },
      "source": [
        "def is_balanced (inDict:[str, float]) -> bool:\n",
        "    \n",
        "    sumVar = 0.0\n",
        "\n",
        "    for i in inDict.values():\n",
        "        sumVar = sumVar + i \n",
        "\n",
        "    return sumVar == 1\n",
        "\n",
        "\n",
        "RGB = {'R' : 0.2 , 'G' : 0.2, 'B' : 0.6}\n",
        "\n",
        "print(is_balanced(RGB))"
      ],
      "execution_count": 4,
      "outputs": [
        {
          "output_type": "stream",
          "name": "stdout",
          "text": [
            "True\n"
          ]
        }
      ]
    },
    {
      "cell_type": "markdown",
      "metadata": {
        "id": "lEpctRZKUfYI"
      },
      "source": [
        "bt9"
      ]
    },
    {
      "cell_type": "code",
      "metadata": {
        "colab": {
          "base_uri": "https://localhost:8080/"
        },
        "id": "ooVMWVvuUgCa",
        "outputId": "328d576b-361a-4264-8f6e-51768ab5fb63"
      },
      "source": [
        "def dict_intersect(inDict, inDict1) -> dict :\n",
        "    \n",
        "    return dict(inDict.items() & inDict1.items())\n",
        "\n",
        "\n",
        "\n",
        "# How to use it :\n",
        "\n",
        "Dictionary0 = {'one' : 1, 'two' : 2 }\n",
        "Dictionary1 = {'one' : 1, 'three' : 2 }\n",
        "\n",
        "print(dict_intersect(Dictionary0,Dictionary1))"
      ],
      "execution_count": 11,
      "outputs": [
        {
          "output_type": "stream",
          "name": "stdout",
          "text": [
            "{'one': 1}\n"
          ]
        }
      ]
    },
    {
      "cell_type": "markdown",
      "metadata": {
        "id": "ptxLcCQ9Ui7m"
      },
      "source": [
        "bt10"
      ]
    },
    {
      "cell_type": "code",
      "metadata": {
        "id": "uKHJJ6hLe73V"
      },
      "source": [
        "def db_headings(inDict):\n",
        "    \n",
        "    keysInner = set()\n",
        "\n",
        "    for key in inDict.keys():\n",
        "        for inKey in inDict[key]:\n",
        "            keysInner.add(inKey)\n",
        "    \n",
        "    return keysInner\n",
        "\n",
        "\n",
        "print(db_headings(scientists))"
      ],
      "execution_count": null,
      "outputs": []
    },
    {
      "cell_type": "markdown",
      "metadata": {
        "id": "gqC7iHY8UwHl"
      },
      "source": [
        "bt11"
      ]
    },
    {
      "cell_type": "code",
      "metadata": {
        "id": "6J6fTOczer4F"
      },
      "source": [
        "def db_consistent(inDict):\n",
        "    innerDictKeys = []\n",
        "\n",
        "    for outerKey in inDict:\n",
        "        tempKeys = list(inDict[outerKey].keys())\n",
        "        tempKeys.sort()\n",
        "        innerDictKeys.append(tempKeys)\n",
        "\n",
        "    for i in range(1,len(innerDictKeys)):\n",
        "        if len(innerDictKeys[0]) != len(innerDictKeys[i]):\n",
        "            return False\n",
        "\n",
        "        for j in range(len(innerDictKeys[0])):\n",
        "            if innerDictKeys[0][j] != innerDictKeys[i][j]:\n",
        "                return False\n",
        "\n",
        "    return True\n",
        "print(db_consistent(scientists))"
      ],
      "execution_count": null,
      "outputs": []
    }
  ]
}