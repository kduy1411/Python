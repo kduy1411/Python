{
  "nbformat": 4,
  "nbformat_minor": 0,
  "metadata": {
    "colab": {
      "name": "Lab01-chuong6.ipynb",
      "provenance": [],
      "authorship_tag": "ABX9TyM8WRbHIDJbRWSWIl9ddq6X",
      "include_colab_link": true
    },
    "kernelspec": {
      "name": "python3",
      "display_name": "Python 3"
    },
    "language_info": {
      "name": "python"
    }
  },
  "cells": [
    {
      "cell_type": "markdown",
      "metadata": {
        "id": "view-in-github",
        "colab_type": "text"
      },
      "source": [
        "<a href=\"https://colab.research.google.com/github/kduy1411/Python/blob/main/Lab01/Lab01_chuong6.ipynb\" target=\"_parent\"><img src=\"https://colab.research.google.com/assets/colab-badge.svg\" alt=\"Open In Colab\"/></a>"
      ]
    },
    {
      "cell_type": "markdown",
      "metadata": {
        "id": "_XaDRyT6TvuP"
      },
      "source": [
        "1a"
      ]
    },
    {
      "cell_type": "code",
      "metadata": {
        "colab": {
          "base_uri": "https://localhost:8080/"
        },
        "id": "iG9vXyqzTzsA",
        "outputId": "deb06ff8-3a2d-4f9e-d785-6c0f9d5881dd"
      },
      "source": [
        "import math\n",
        "print(math.floor(-2.8))"
      ],
      "execution_count": null,
      "outputs": [
        {
          "output_type": "stream",
          "name": "stdout",
          "text": [
            "-3\n"
          ]
        }
      ]
    },
    {
      "cell_type": "markdown",
      "metadata": {
        "id": "YDOScHVsUG0F"
      },
      "source": [
        "1b"
      ]
    },
    {
      "cell_type": "code",
      "metadata": {
        "colab": {
          "base_uri": "https://localhost:8080/"
        },
        "id": "CcKND7xyUKXW",
        "outputId": "c8014e18-e274-4b95-f622-c28c48c45cee"
      },
      "source": [
        "import math\n",
        "print(abs(round(-4.3)))"
      ],
      "execution_count": null,
      "outputs": [
        {
          "output_type": "stream",
          "name": "stdout",
          "text": [
            "4\n"
          ]
        }
      ]
    },
    {
      "cell_type": "markdown",
      "metadata": {
        "id": "bfPieaQuUIzz"
      },
      "source": [
        "1c"
      ]
    },
    {
      "cell_type": "code",
      "metadata": {
        "colab": {
          "base_uri": "https://localhost:8080/"
        },
        "id": "pY7-NRqiUbkr",
        "outputId": "907bf9f7-4db0-4310-fc69-5d7f33bbd2c1"
      },
      "source": [
        "import math\n",
        "print(math.ceil(math.sin(34.5)))"
      ],
      "execution_count": null,
      "outputs": [
        {
          "output_type": "stream",
          "name": "stdout",
          "text": [
            "1\n"
          ]
        }
      ]
    },
    {
      "cell_type": "markdown",
      "metadata": {
        "id": "YGGJ8L0VUlnl"
      },
      "source": [
        "2a"
      ]
    },
    {
      "cell_type": "code",
      "metadata": {
        "id": "pu2Vs3R16Nm5"
      },
      "source": [
        "import calendar"
      ],
      "execution_count": 1,
      "outputs": []
    },
    {
      "cell_type": "markdown",
      "metadata": {
        "id": "9kQeN_i4UpY0"
      },
      "source": [
        "2b"
      ]
    },
    {
      "cell_type": "code",
      "metadata": {
        "id": "t7KnId2f7qcF",
        "outputId": "4e40bc74-affd-4699-daa4-1fdfd1903e04",
        "colab": {
          "base_uri": "https://localhost:8080/"
        }
      },
      "source": [
        "print(help(calendar.isleap))"
      ],
      "execution_count": 2,
      "outputs": [
        {
          "output_type": "stream",
          "name": "stdout",
          "text": [
            "Help on function isleap in module calendar:\n",
            "\n",
            "isleap(year)\n",
            "    Return True for leap years, False for non-leap years.\n",
            "\n",
            "None\n"
          ]
        }
      ]
    },
    {
      "cell_type": "markdown",
      "metadata": {
        "id": "y9c2DPSj77zp"
      },
      "source": [
        "2c"
      ]
    },
    {
      "cell_type": "code",
      "metadata": {
        "id": "b4a2LM7b7-EE",
        "outputId": "52621d64-e54d-4fdb-ec97-5a8401a65f8a",
        "colab": {
          "base_uri": "https://localhost:8080/"
        }
      },
      "source": [
        "print(calendar.isleap(2016))"
      ],
      "execution_count": 4,
      "outputs": [
        {
          "output_type": "stream",
          "name": "stdout",
          "text": [
            "True\n"
          ]
        }
      ]
    },
    {
      "cell_type": "markdown",
      "metadata": {
        "id": "XpifU2vJ8Kec"
      },
      "source": [
        "2d"
      ]
    },
    {
      "cell_type": "code",
      "metadata": {
        "id": "l5TXyz8S8NNH",
        "outputId": "704d000d-bdde-486b-d02f-725c284a1d28",
        "colab": {
          "base_uri": "https://localhost:8080/"
        }
      },
      "source": [
        "dir(calendar)\n"
      ],
      "execution_count": 5,
      "outputs": [
        {
          "output_type": "execute_result",
          "data": {
            "text/plain": [
              "['Calendar',\n",
              " 'EPOCH',\n",
              " 'FRIDAY',\n",
              " 'February',\n",
              " 'HTMLCalendar',\n",
              " 'IllegalMonthError',\n",
              " 'IllegalWeekdayError',\n",
              " 'January',\n",
              " 'LocaleHTMLCalendar',\n",
              " 'LocaleTextCalendar',\n",
              " 'MONDAY',\n",
              " 'SATURDAY',\n",
              " 'SUNDAY',\n",
              " 'THURSDAY',\n",
              " 'TUESDAY',\n",
              " 'TextCalendar',\n",
              " 'WEDNESDAY',\n",
              " '_EPOCH_ORD',\n",
              " '__all__',\n",
              " '__builtins__',\n",
              " '__cached__',\n",
              " '__doc__',\n",
              " '__file__',\n",
              " '__loader__',\n",
              " '__name__',\n",
              " '__package__',\n",
              " '__spec__',\n",
              " '_colwidth',\n",
              " '_locale',\n",
              " '_localized_day',\n",
              " '_localized_month',\n",
              " '_spacing',\n",
              " 'c',\n",
              " 'calendar',\n",
              " 'datetime',\n",
              " 'day_abbr',\n",
              " 'day_name',\n",
              " 'different_locale',\n",
              " 'error',\n",
              " 'firstweekday',\n",
              " 'format',\n",
              " 'formatstring',\n",
              " 'isleap',\n",
              " 'leapdays',\n",
              " 'main',\n",
              " 'mdays',\n",
              " 'month',\n",
              " 'month_abbr',\n",
              " 'month_name',\n",
              " 'monthcalendar',\n",
              " 'monthlen',\n",
              " 'monthrange',\n",
              " 'nextmonth',\n",
              " 'prcal',\n",
              " 'prevmonth',\n",
              " 'prmonth',\n",
              " 'prweek',\n",
              " 'repeat',\n",
              " 'setfirstweekday',\n",
              " 'sys',\n",
              " 'timegm',\n",
              " 'week',\n",
              " 'weekday',\n",
              " 'weekheader']"
            ]
          },
          "metadata": {},
          "execution_count": 5
        }
      ]
    },
    {
      "cell_type": "markdown",
      "metadata": {
        "id": "DI63BiHL8LZH"
      },
      "source": [
        "2e"
      ]
    },
    {
      "cell_type": "code",
      "metadata": {
        "id": "bLeDpcdY8NsK",
        "outputId": "018c8914-e590-40be-d77f-f50e4e1ece4f",
        "colab": {
          "base_uri": "https://localhost:8080/"
        }
      },
      "source": [
        "print(calendar.leapdays(2000, 2050))"
      ],
      "execution_count": 6,
      "outputs": [
        {
          "output_type": "stream",
          "name": "stdout",
          "text": [
            "13\n"
          ]
        }
      ]
    },
    {
      "cell_type": "markdown",
      "metadata": {
        "id": "UGxtFy-v8MEu"
      },
      "source": [
        "2f"
      ]
    },
    {
      "cell_type": "code",
      "metadata": {
        "id": "n0K14V9p8ONI",
        "outputId": "abd25307-1f45-465f-cb6b-f9eb6656210f",
        "colab": {
          "base_uri": "https://localhost:8080/"
        }
      },
      "source": [
        "print(calendar.weekday(2016, 7, 29))"
      ],
      "execution_count": 7,
      "outputs": [
        {
          "output_type": "stream",
          "name": "stdout",
          "text": [
            "4\n"
          ]
        }
      ]
    },
    {
      "cell_type": "markdown",
      "metadata": {
        "id": "VDQMCkao8dRp"
      },
      "source": [
        "3ab"
      ]
    },
    {
      "cell_type": "code",
      "metadata": {
        "id": "xDP1ezPN8sC5",
        "outputId": "c9b9ab70-6264-4874-b5d0-e931af71fdc7",
        "colab": {
          "base_uri": "https://localhost:8080/"
        }
      },
      "source": [
        "def average(num1: float, num2: float):\n",
        "  return num1 + num2 / 2\n",
        "n1 = float(input(\":\"))\n",
        "n2 = float(input(\":\"))\n",
        "while average(n1,n2)<5:\n",
        "    print(\"fail\")\n",
        "    print(\"re-input\")\n",
        "    n1= float(input(\"repeat 1:\"))\n",
        "    n2 = float(input(\"repeat 2:\"))\n",
        "print(\"pass\")\n",
        "  \n"
      ],
      "execution_count": 10,
      "outputs": [
        {
          "output_type": "stream",
          "name": "stdout",
          "text": [
            ":3\n",
            ":12\n",
            "pass\n"
          ]
        }
      ]
    }
  ]
}