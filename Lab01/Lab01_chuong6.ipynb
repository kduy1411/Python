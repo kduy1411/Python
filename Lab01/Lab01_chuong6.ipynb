{
  "nbformat": 4,
  "nbformat_minor": 0,
  "metadata": {
    "colab": {
      "name": "Lab01-chuong6.ipynb",
      "provenance": [],
      "authorship_tag": "ABX9TyPybbXzUE/Xyasei0Udb/oA",
      "include_colab_link": true
    },
    "kernelspec": {
      "name": "python3",
      "display_name": "Python 3"
    },
    "language_info": {
      "name": "python"
    }
  },
  "cells": [
    {
      "cell_type": "markdown",
      "metadata": {
        "id": "view-in-github",
        "colab_type": "text"
      },
      "source": [
        "<a href=\"https://colab.research.google.com/github/kduy1411/Python/blob/main/Lab01/Lab01_chuong6.ipynb\" target=\"_parent\"><img src=\"https://colab.research.google.com/assets/colab-badge.svg\" alt=\"Open In Colab\"/></a>"
      ]
    },
    {
      "cell_type": "markdown",
      "metadata": {
        "id": "_XaDRyT6TvuP"
      },
      "source": [
        "1a"
      ]
    },
    {
      "cell_type": "code",
      "metadata": {
        "colab": {
          "base_uri": "https://localhost:8080/"
        },
        "id": "iG9vXyqzTzsA",
        "outputId": "deb06ff8-3a2d-4f9e-d785-6c0f9d5881dd"
      },
      "source": [
        "import math\n",
        "print(math.floor(-2.8))"
      ],
      "execution_count": 2,
      "outputs": [
        {
          "output_type": "stream",
          "name": "stdout",
          "text": [
            "-3\n"
          ]
        }
      ]
    },
    {
      "cell_type": "markdown",
      "metadata": {
        "id": "YDOScHVsUG0F"
      },
      "source": [
        "1b"
      ]
    },
    {
      "cell_type": "code",
      "metadata": {
        "colab": {
          "base_uri": "https://localhost:8080/"
        },
        "id": "CcKND7xyUKXW",
        "outputId": "c8014e18-e274-4b95-f622-c28c48c45cee"
      },
      "source": [
        "import math\n",
        "print(abs(round(-4.3)))"
      ],
      "execution_count": 3,
      "outputs": [
        {
          "output_type": "stream",
          "name": "stdout",
          "text": [
            "4\n"
          ]
        }
      ]
    },
    {
      "cell_type": "markdown",
      "metadata": {
        "id": "bfPieaQuUIzz"
      },
      "source": [
        "1c"
      ]
    },
    {
      "cell_type": "code",
      "metadata": {
        "colab": {
          "base_uri": "https://localhost:8080/"
        },
        "id": "pY7-NRqiUbkr",
        "outputId": "907bf9f7-4db0-4310-fc69-5d7f33bbd2c1"
      },
      "source": [
        "import math\n",
        "print(math.ceil(math.sin(34.5)))"
      ],
      "execution_count": 4,
      "outputs": [
        {
          "output_type": "stream",
          "name": "stdout",
          "text": [
            "1\n"
          ]
        }
      ]
    },
    {
      "cell_type": "markdown",
      "metadata": {
        "id": "YGGJ8L0VUlnl"
      },
      "source": [
        "2a"
      ]
    },
    {
      "cell_type": "markdown",
      "metadata": {
        "id": "9kQeN_i4UpY0"
      },
      "source": [
        "2b"
      ]
    },
    {
      "cell_type": "markdown",
      "metadata": {
        "id": "CHD6SJEQUqeM"
      },
      "source": [
        ""
      ]
    }
  ]
}