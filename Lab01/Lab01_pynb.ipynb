{
  "nbformat": 4,
  "nbformat_minor": 0,
  "metadata": {
    "colab": {
      "name": "Lab01.pynb",
      "provenance": [],
      "authorship_tag": "ABX9TyOXO2iVGlHNvYHusbaMfC/x",
      "include_colab_link": true
    },
    "kernelspec": {
      "name": "python3",
      "display_name": "Python 3"
    },
    "language_info": {
      "name": "python"
    }
  },
  "cells": [
    {
      "cell_type": "markdown",
      "metadata": {
        "id": "view-in-github",
        "colab_type": "text"
      },
      "source": [
        "<a href=\"https://colab.research.google.com/github/kduy1411/Python/blob/main/Lab01/Lab01_pynb.ipynb\" target=\"_parent\"><img src=\"https://colab.research.google.com/assets/colab-badge.svg\" alt=\"Open In Colab\"/></a>"
      ]
    },
    {
      "cell_type": "markdown",
      "metadata": {
        "id": "D9eYnaiPG_-D"
      },
      "source": [
        "bt1"
      ]
    },
    {
      "cell_type": "code",
      "metadata": {
        "id": "d8PxszEGHDqI",
        "outputId": "e28a19e7-486f-4262-a884-878ecbcf2cc4",
        "colab": {
          "base_uri": "https://localhost:8080/"
        }
      },
      "source": [
        "a1 = min(2,3,4)\n",
        "print(a1)\n",
        "a2 = max(2,-3,4,7,-5)\n",
        "print(a2)\n",
        "a3 = max(2,-3,min(4,7),5)\n",
        "print(a3)"
      ],
      "execution_count": 1,
      "outputs": [
        {
          "output_type": "stream",
          "name": "stdout",
          "text": [
            "2\n",
            "7\n",
            "5\n"
          ]
        }
      ]
    },
    {
      "cell_type": "markdown",
      "metadata": {
        "id": "7gcnD3LNHmYQ"
      },
      "source": [
        "bt2"
      ]
    },
    {
      "cell_type": "code",
      "metadata": {
        "id": "iQSTif1vHpAv",
        "outputId": "60f1abdd-605f-4a47-d308-ae720e202b8c",
        "colab": {
          "base_uri": "https://localhost:8080/"
        }
      },
      "source": [
        "a1 = min(max(3, 4), abs(-5))\n",
        "print(a1)\n",
        "a2 = abs(min(4, 6, max(2, 8)))\n",
        "print(a2)\n",
        "a3 = round(max(5.572, 3.258), abs(-2))\n",
        "print(a3)\n"
      ],
      "execution_count": 2,
      "outputs": [
        {
          "output_type": "stream",
          "name": "stdout",
          "text": [
            "4\n",
            "4\n",
            "5.57\n"
          ]
        }
      ]
    }
  ]
}