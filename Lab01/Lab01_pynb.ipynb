{
  "nbformat": 4,
  "nbformat_minor": 0,
  "metadata": {
    "colab": {
      "name": "Lab01.pynb",
      "provenance": [],
      "authorship_tag": "ABX9TyONavuDsLd4YXGvkIKVpwdw",
      "include_colab_link": true
    },
    "kernelspec": {
      "name": "python3",
      "display_name": "Python 3"
    },
    "language_info": {
      "name": "python"
    }
  },
  "cells": [
    {
      "cell_type": "markdown",
      "metadata": {
        "id": "view-in-github",
        "colab_type": "text"
      },
      "source": [
        "<a href=\"https://colab.research.google.com/github/kduy1411/Python/blob/main/Lab01/Lab01_pynb.ipynb\" target=\"_parent\"><img src=\"https://colab.research.google.com/assets/colab-badge.svg\" alt=\"Open In Colab\"/></a>"
      ]
    },
    {
      "cell_type": "markdown",
      "metadata": {
        "id": "D9eYnaiPG_-D"
      },
      "source": [
        "bt1"
      ]
    },
    {
      "cell_type": "code",
      "metadata": {
        "colab": {
          "base_uri": "https://localhost:8080/"
        },
        "id": "d8PxszEGHDqI",
        "outputId": "e28a19e7-486f-4262-a884-878ecbcf2cc4"
      },
      "source": [
        "a1 = min(2,3,4)\n",
        "print(a1)\n",
        "a2 = max(2,-3,4,7,-5)\n",
        "print(a2)\n",
        "a3 = max(2,-3,min(4,7),5)\n",
        "print(a3)"
      ],
      "execution_count": 1,
      "outputs": [
        {
          "output_type": "stream",
          "name": "stdout",
          "text": [
            "2\n",
            "7\n",
            "5\n"
          ]
        }
      ]
    },
    {
      "cell_type": "markdown",
      "metadata": {
        "id": "7gcnD3LNHmYQ"
      },
      "source": [
        "bt2"
      ]
    },
    {
      "cell_type": "code",
      "metadata": {
        "colab": {
          "base_uri": "https://localhost:8080/"
        },
        "id": "iQSTif1vHpAv",
        "outputId": "60f1abdd-605f-4a47-d308-ae720e202b8c"
      },
      "source": [
        "a1 = min(max(3, 4), abs(-5))\n",
        "print(a1)\n",
        "a2 = abs(min(4, 6, max(2, 8)))\n",
        "print(a2)\n",
        "a3 = round(max(5.572, 3.258), abs(-2))\n",
        "print(a3)\n"
      ],
      "execution_count": 2,
      "outputs": [
        {
          "output_type": "stream",
          "name": "stdout",
          "text": [
            "4\n",
            "4\n",
            "5.57\n"
          ]
        }
      ]
    },
    {
      "cell_type": "markdown",
      "metadata": {
        "id": "ypb822wNQWqr"
      },
      "source": [
        "bt3"
      ]
    },
    {
      "cell_type": "code",
      "metadata": {
        "id": "gR22eV5dQX0J",
        "outputId": "f35120da-c9da-4095-f5c9-219fd10a5bb1",
        "colab": {
          "base_uri": "https://localhost:8080/"
        }
      },
      "source": [
        "def triple(num):\n",
        "  return num * 3\n",
        "print((triple(2)))"
      ],
      "execution_count": 3,
      "outputs": [
        {
          "output_type": "stream",
          "name": "stdout",
          "text": [
            "6\n"
          ]
        }
      ]
    },
    {
      "cell_type": "markdown",
      "metadata": {
        "id": "xI33v2qgQnKm"
      },
      "source": [
        "bt4\n"
      ]
    },
    {
      "cell_type": "code",
      "metadata": {
        "id": "e21LtX3wQowr",
        "outputId": "62b8c3d8-6e78-4f53-ec06-cf83be74a06e",
        "colab": {
          "base_uri": "https://localhost:8080/"
        }
      },
      "source": [
        "def absolute_difference(number1, number2):\n",
        "    return int(abs(number1 - number2))\n",
        "print(absolute_difference(3,7))"
      ],
      "execution_count": 4,
      "outputs": [
        {
          "output_type": "stream",
          "name": "stdout",
          "text": [
            "4\n"
          ]
        }
      ]
    },
    {
      "cell_type": "markdown",
      "metadata": {
        "id": "gBBEO870QxhT"
      },
      "source": [
        "bt5"
      ]
    },
    {
      "cell_type": "code",
      "metadata": {
        "id": "wRILSjGXQzNr",
        "outputId": "ae73b48f-e7af-4cf0-e5e4-62267bbc0c06",
        "colab": {
          "base_uri": "https://localhost:8080/"
        }
      },
      "source": [
        "def km_to_miles(km):\n",
        " return km / 1.6\n",
        "print(km_to_miles(2))"
      ],
      "execution_count": 5,
      "outputs": [
        {
          "output_type": "stream",
          "name": "stdout",
          "text": [
            "1.25\n"
          ]
        }
      ]
    },
    {
      "cell_type": "markdown",
      "metadata": {
        "id": "FCbUYVfpRROK"
      },
      "source": [
        "bt6"
      ]
    },
    {
      "cell_type": "code",
      "metadata": {
        "id": "4e5OGzF0Remj",
        "outputId": "fe86b443-982d-4307-8d18-345104643f7b",
        "colab": {
          "base_uri": "https://localhost:8080/"
        }
      },
      "source": [
        "def average_grade(grade1, grade2, grade3):\n",
        " return (grade1 + grade2 + grade3) / 3\n",
        "print(average_grade(10, 5, 2))"
      ],
      "execution_count": 6,
      "outputs": [
        {
          "output_type": "stream",
          "name": "stdout",
          "text": [
            "5.666666666666667\n"
          ]
        }
      ]
    },
    {
      "cell_type": "markdown",
      "metadata": {
        "id": "cuAELzGuRVcQ"
      },
      "source": [
        "bt7"
      ]
    },
    {
      "cell_type": "code",
      "metadata": {
        "id": "aHW48JBIRfPk",
        "outputId": "1a45e377-a3fb-4572-f12b-f547f580717e",
        "colab": {
          "base_uri": "https://localhost:8080/"
        }
      },
      "source": [
        "def top_three_avg(grade1, grade2, grade3, grade4):\n",
        " total = grade1 + grade2 + grade3 + grade4\n",
        " top_three = total - min(grade1, grade2, grade3, grade4)\n",
        " return top_three / 3\n",
        " return max(average_grade(grade1, grade2, grade3),\n",
        " average_grade(grade1, grade2, grade4),\n",
        " average_grade(grade1, grade3, grade4),\n",
        " average_grade(grade2, grade3, grade4))\n",
        " return (grade1 + grade2 + grade3) / 3\n",
        "print(top_three_avg(15, 14, 20, 31))"
      ],
      "execution_count": 7,
      "outputs": [
        {
          "output_type": "stream",
          "name": "stdout",
          "text": [
            "22.0\n"
          ]
        }
      ]
    },
    {
      "cell_type": "markdown",
      "metadata": {
        "id": "fL1DFFi4RV2x"
      },
      "source": [
        "bt8"
      ]
    },
    {
      "cell_type": "code",
      "metadata": {
        "id": "FzeXPenpRfuz",
        "outputId": "d9a0f96f-5de0-445f-df5f-ca467297c135",
        "colab": {
          "base_uri": "https://localhost:8080/"
        }
      },
      "source": [
        "def weeks_elapsed(day1, day2):\n",
        "    return int(abs((day1-day2)/7))\n",
        "print(weeks_elapsed(2,11))"
      ],
      "execution_count": 8,
      "outputs": [
        {
          "output_type": "stream",
          "name": "stdout",
          "text": [
            "1\n"
          ]
        }
      ]
    },
    {
      "cell_type": "markdown",
      "metadata": {
        "id": "L7r2q7JERb2V"
      },
      "source": [
        "bt9"
      ]
    },
    {
      "cell_type": "code",
      "metadata": {
        "id": "-W8i2xeVRgLc",
        "outputId": "07d58c7a-c20e-4c8d-e37e-0bde00011370",
        "colab": {
          "base_uri": "https://localhost:8080/"
        }
      },
      "source": [
        "def square(num):\n",
        "    return int(num**2)\n",
        "print(square(5))"
      ],
      "execution_count": 9,
      "outputs": [
        {
          "output_type": "stream",
          "name": "stdout",
          "text": [
            "25\n"
          ]
        }
      ]
    }
  ]
}