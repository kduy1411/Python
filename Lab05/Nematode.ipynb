{
  "nbformat": 4,
  "nbformat_minor": 0,
  "metadata": {
    "colab": {
      "name": "Nematode.ipynb",
      "provenance": [],
      "authorship_tag": "ABX9TyNRCXHrB2nH5+6xTAaEEJJ+",
      "include_colab_link": true
    },
    "kernelspec": {
      "name": "python3",
      "display_name": "Python 3"
    },
    "language_info": {
      "name": "python"
    }
  },
  "cells": [
    {
      "cell_type": "markdown",
      "metadata": {
        "id": "view-in-github",
        "colab_type": "text"
      },
      "source": [
        "<a href=\"https://colab.research.google.com/github/kduy1411/Python/blob/main/Lab05/Nematode.ipynb\" target=\"_parent\"><img src=\"https://colab.research.google.com/assets/colab-badge.svg\" alt=\"Open In Colab\"/></a>"
      ]
    },
    {
      "cell_type": "code",
      "metadata": {
        "id": "e6ZfO_IDrHJd"
      },
      "source": [
        "class Nematode:\n",
        "    def __init__(self,bodyLength: float, gender: str,age: int) -> None:\n",
        "        self.bodyLength = bodyLength\n",
        "        self.gender = gender\n",
        "        self.age = age\n",
        "    \n",
        "    def __str__(self):\n",
        "        return \"Nematode details:\\nbody length : {}\\ngender : {}\\nage :{}\".format(self.bodyLength,self.gender,self.age)\n",
        "    \n",
        "    def __repr__(self):\n",
        "        return \"{0}({1},{2},{3})\".format(self.__class__.__name__,self.bodyLength,self.gender,self.age)"
      ],
      "execution_count": null,
      "outputs": []
    }
  ]
}