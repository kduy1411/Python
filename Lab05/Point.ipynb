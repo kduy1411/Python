{
  "nbformat": 4,
  "nbformat_minor": 0,
  "metadata": {
    "colab": {
      "name": "Point.ipynb",
      "provenance": [],
      "authorship_tag": "ABX9TyPKILzfqGL0iIn1Sn02bGzv",
      "include_colab_link": true
    },
    "kernelspec": {
      "name": "python3",
      "display_name": "Python 3"
    },
    "language_info": {
      "name": "python"
    }
  },
  "cells": [
    {
      "cell_type": "markdown",
      "metadata": {
        "id": "view-in-github",
        "colab_type": "text"
      },
      "source": [
        "<a href=\"https://colab.research.google.com/github/kduy1411/Python/blob/main/Lab05/Point.ipynb\" target=\"_parent\"><img src=\"https://colab.research.google.com/assets/colab-badge.svg\" alt=\"Open In Colab\"/></a>"
      ]
    },
    {
      "cell_type": "code",
      "metadata": {
        "id": "A3w4lNQStkO0"
      },
      "source": [
        "import math\n",
        "\n",
        "class Point:\n",
        "\n",
        "    def __init__(self,Number1,Number2):\n",
        "        self.Number1 = Number1\n",
        "        self.Number2 = Number2\n",
        "\n",
        "class LineSegment:\n",
        "\n",
        "    def __init__(self,segmentStart: Point,segmentEnd: Point):\n",
        "        self.segmentStart = segmentStart\n",
        "        self.segmentEnd = segmentEnd\n",
        "\n",
        "    def slope(self):\n",
        "        result = (self.segmentStart.Number1 - self.segmentEnd.Number1) / (self.segmentStart.Number2 - self.segmentEnd.Number2)\n",
        "        return result\n",
        "\n",
        "    def length(self):\n",
        "        distance = math.sqrt( pow((self.segmentStart.Number1 - self.segmentEnd.Number1),2) + pow((self.segmentStart.Number2 - self.segmentEnd.Number2),2 ))\n",
        "        return distance"
      ],
      "execution_count": 1,
      "outputs": []
    }
  ]
}