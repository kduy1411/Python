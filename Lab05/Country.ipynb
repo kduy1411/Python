{
  "nbformat": 4,
  "nbformat_minor": 0,
  "metadata": {
    "colab": {
      "name": "Untitled6.ipynb",
      "provenance": [],
      "authorship_tag": "ABX9TyPkSntQKNP18EMQ6CCXQFXr",
      "include_colab_link": true
    },
    "kernelspec": {
      "name": "python3",
      "display_name": "Python 3"
    },
    "language_info": {
      "name": "python"
    }
  },
  "cells": [
    {
      "cell_type": "markdown",
      "metadata": {
        "id": "view-in-github",
        "colab_type": "text"
      },
      "source": [
        "<a href=\"https://colab.research.google.com/github/kduy1411/Python/blob/main/Lab05/Country.ipynb\" target=\"_parent\"><img src=\"https://colab.research.google.com/assets/colab-badge.svg\" alt=\"Open In Colab\"/></a>"
      ]
    },
    {
      "cell_type": "code",
      "metadata": {
        "id": "oyNep9qHqiqf"
      },
      "source": [
        "#cau a:\n",
        "class Country:\n",
        "    def __init__(self, name, population, area):\n",
        "        self.name = name\n",
        "        self.population = population\n",
        "        self.area = area\n",
        "#cau b:\n",
        "    def is_larger(self, other):\n",
        "        if isinstance(other,Country):\n",
        "            return self.area > other.area\n",
        "        else:\n",
        "            print(\"Both objects need to be from class Country\")\n",
        "            return -1\n",
        "#cau c:   \n",
        "    def population_density(self):\n",
        "        return (self.population / self.area)\n",
        "#cau d:\n",
        "    def __str__(self):\n",
        "        return (\"{0} has a population of {1} and its area is {2} square kilometers.\".format(self.name,self.population,self.area))\n",
        "#cau e:    \n",
        "    def __repr__(self):\n",
        "        return \"Country('{0}', {1}, {2})\".format(self.name, self.population, self.area)\n"
      ],
      "execution_count": null,
      "outputs": []
    }
  ]
}