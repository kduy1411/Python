{
  "nbformat": 4,
  "nbformat_minor": 0,
  "metadata": {
    "colab": {
      "name": "Student.ipynb",
      "provenance": [],
      "authorship_tag": "ABX9TyMREKUwXng7PmzD7rxV1vIm",
      "include_colab_link": true
    },
    "kernelspec": {
      "name": "python3",
      "display_name": "Python 3"
    },
    "language_info": {
      "name": "python"
    }
  },
  "cells": [
    {
      "cell_type": "markdown",
      "metadata": {
        "id": "view-in-github",
        "colab_type": "text"
      },
      "source": [
        "<a href=\"https://colab.research.google.com/github/kduy1411/Python/blob/main/Lab05/Student.ipynb\" target=\"_parent\"><img src=\"https://colab.research.google.com/assets/colab-badge.svg\" alt=\"Open In Colab\"/></a>"
      ]
    },
    {
      "cell_type": "code",
      "metadata": {
        "id": "9nHwEfPQuNl0"
      },
      "source": [
        "class Member:\n",
        "    def __init__(self, name: str, address: str, email: str) -> None:\n",
        "\n",
        "        self.name = name\n",
        "        self.address = address\n",
        "        self.email = email\n",
        "    \n",
        "    def __repr__(self):\n",
        "        return \"{0}({1},{2},{3})\".format(self.__class__.__name__,self.name,self.address,self.email)\n",
        "\n",
        "class Faculty(Member):\n",
        "    def __init__(self, name: str, address: str, email: str,\n",
        "                 faculty_num: str) -> None:\n",
        "        super().__init__(name, address, email)\n",
        "        self.faculty_number = faculty_num\n",
        "        self.courses_teaching = []\n",
        "\n",
        "    def __repr__(self):\n",
        "        return \"{0}({1},{2},{3},{4},{5})\".format(self.__class__.__name__,self.name,self.address,self.email,self.faculty_number,self.courses_teaching)\n",
        "\n",
        "\n",
        "class Student(Member):\n",
        "    def __init__(self, name: str, address: str, email: str,\n",
        "                 student_num: str) -> None:\n",
        "        super().__init__(name, address, email)\n",
        "        self.student_number = student_num\n",
        "        self.courses_taken = []\n",
        "        self.courses_taking = []\n",
        "    \n",
        "    def __str__(self):\n",
        "        return \"Name of the student : {0} \\nAddress : {1} \\nemail : {2} \\nStudent number : {3} \\nCourses_taken : {4} \\nCourses_taking : {5} \\n\".format(self.name,self.address,self.email,self.student_number,self.courses_taken,self.courses_taking)\n",
        "\n",
        "    def __repr__(self):\n",
        "        return \"{0}({1},{2},{3},{4},{5},{6})\".format(self.__class__.__name__,self.name,self.address,self.email,self.student_number,self.courses_taken,self.courses_taking)\n",
        "        \n"
      ],
      "execution_count": null,
      "outputs": []
    }
  ]
}