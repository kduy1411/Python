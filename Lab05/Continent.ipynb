{
  "nbformat": 4,
  "nbformat_minor": 0,
  "metadata": {
    "colab": {
      "name": "Continent.ipynb",
      "provenance": [],
      "authorship_tag": "ABX9TyO37aq5kedc6DAt8dwRlgO3",
      "include_colab_link": true
    },
    "kernelspec": {
      "name": "python3",
      "display_name": "Python 3"
    },
    "language_info": {
      "name": "python"
    }
  },
  "cells": [
    {
      "cell_type": "markdown",
      "metadata": {
        "id": "view-in-github",
        "colab_type": "text"
      },
      "source": [
        "<a href=\"https://colab.research.google.com/github/kduy1411/Python/blob/main/Lab05/Continent.ipynb\" target=\"_parent\"><img src=\"https://colab.research.google.com/assets/colab-badge.svg\" alt=\"Open In Colab\"/></a>"
      ]
    },
    {
      "cell_type": "code",
      "metadata": {
        "id": "h6FSHniiqNCu"
      },
      "source": [
        "from Country import Country\n",
        "class Continent:\n",
        "    def __init__(self,name,countries):\n",
        "        self.name = name\n",
        "        self.countries = countries\n",
        "\n",
        "    def total_population(self):\n",
        "        sum = 0\n",
        "        for country in self.countries:\n",
        "            sum += country.population\n",
        "        return sum\n",
        "\n",
        "    def __str__(self):\n",
        "        string = self.name + '\\n'\n",
        "        for country in self.countries:\n",
        "            string += '{} has a population of {} and is {} square km.'.format(country.name, country.population, country.area) + '\\n'\n",
        "        return string"
      ],
      "execution_count": null,
      "outputs": []
    }
  ]
}