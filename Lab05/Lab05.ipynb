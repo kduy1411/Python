{
  "nbformat": 4,
  "nbformat_minor": 0,
  "metadata": {
    "colab": {
      "name": "Untitled5.ipynb",
      "provenance": [],
      "authorship_tag": "ABX9TyOnMVAkhDnpxZ1ch+OYTZDf",
      "include_colab_link": true
    },
    "kernelspec": {
      "name": "python3",
      "display_name": "Python 3"
    },
    "language_info": {
      "name": "python"
    }
  },
  "cells": [
    {
      "cell_type": "markdown",
      "metadata": {
        "id": "view-in-github",
        "colab_type": "text"
      },
      "source": [
        "<a href=\"https://colab.research.google.com/github/kduy1411/Python/blob/main/Lab05/Lab05.ipynb\" target=\"_parent\"><img src=\"https://colab.research.google.com/assets/colab-badge.svg\" alt=\"Open In Colab\"/></a>"
      ]
    },
    {
      "cell_type": "markdown",
      "metadata": {
        "id": "tC8bA_nomq5k"
      },
      "source": [
        "bt1"
      ]
    },
    {
      "cell_type": "code",
      "metadata": {
        "id": "EKSZZBN-mlmX"
      },
      "source": [
        "from Country import Country"
      ],
      "execution_count": null,
      "outputs": []
    },
    {
      "cell_type": "code",
      "metadata": {
        "id": "y87kiuVmmzqj"
      },
      "source": [
        "#cau 1a\n",
        "canada = Country('Canada', 34482779, 9984670)\n",
        "print('canada.name ->',canada.name)\n",
        "print('canada.population ->',canada.population)\n",
        "print('canada.area ->',canada.area)"
      ],
      "execution_count": null,
      "outputs": []
    },
    {
      "cell_type": "code",
      "metadata": {
        "id": "2ysd3eDQm3a4"
      },
      "source": [
        "#cau 1b\n",
        "canada = Country('Canada', 34482779, 9984670)\n",
        "usa = Country('United States of America', 313914040, 9826675)\n",
        "print('canada.is_larger(usa) -> ',canada.is_larger(usa))"
      ],
      "execution_count": null,
      "outputs": []
    },
    {
      "cell_type": "code",
      "metadata": {
        "id": "QfJ8sTDQm7t6"
      },
      "source": [
        "#cau 1c\n",
        "print('canada.population_density() ->', canada.population_density())"
      ],
      "execution_count": null,
      "outputs": []
    },
    {
      "cell_type": "code",
      "metadata": {
        "id": "4mrF53KNnDuQ"
      },
      "source": [
        "#cau 1d\n",
        "usa = Country('United States of America', 313914040, 9826675)\n",
        "print('usa ->',usa)"
      ],
      "execution_count": null,
      "outputs": []
    },
    {
      "cell_type": "code",
      "metadata": {
        "id": "JoT3oXEonHJQ"
      },
      "source": [
        "#cau 1e\n",
        "canada = Country('Canada', 34482779, 9984670)\n",
        "canada\n",
        "print(canada)\n",
        "[canada]\n",
        "print([canada])"
      ],
      "execution_count": null,
      "outputs": []
    },
    {
      "cell_type": "markdown",
      "metadata": {
        "id": "ID4_WZ0UnK4u"
      },
      "source": [
        "bt2"
      ]
    },
    {
      "cell_type": "code",
      "metadata": {
        "id": "f0LQedDLnMf6"
      },
      "source": [
        "from Continent import Continent\n",
        "from Country import Country"
      ],
      "execution_count": null,
      "outputs": []
    },
    {
      "cell_type": "code",
      "metadata": {
        "id": "gxE5ZnE6nUJt"
      },
      "source": [
        "#cau 2a\n",
        "canada = Country('Canada', 34482779, 9984670)\n",
        "usa = Country('United States of America', 313914040,9826675)\n",
        "mexico = Country('Mexico', 112336538, 1943950)\n",
        "\n",
        "countries = [canada, usa , mexico]\n",
        "north_america = Continent('North America', countries)\n",
        "\n",
        "for country in north_america.countries:\n",
        "    print(country)"
      ],
      "execution_count": null,
      "outputs": []
    },
    {
      "cell_type": "code",
      "metadata": {
        "id": "jjxz7qZdnWPg"
      },
      "source": [
        "#cau 2b\n",
        "print(north_america.total_population())"
      ],
      "execution_count": null,
      "outputs": []
    },
    {
      "cell_type": "code",
      "metadata": {
        "id": "ePkTQWGnnhyi"
      },
      "source": [
        "#cau 2c\n",
        "print(north_america)"
      ],
      "execution_count": null,
      "outputs": []
    },
    {
      "cell_type": "markdown",
      "metadata": {
        "id": "lrnyVUAMnlQT"
      },
      "source": [
        "bt3"
      ]
    },
    {
      "cell_type": "code",
      "metadata": {
        "id": "HQlm8DRSnmP5"
      },
      "source": [
        "from Student import Student"
      ],
      "execution_count": null,
      "outputs": []
    },
    {
      "cell_type": "code",
      "metadata": {
        "id": "aJHjlnycnr82"
      },
      "source": [
        "student1 = Student(\"Nguyen Khuong Duy\",\"TP.HCM\",\"khuong1411@gmail.com\",3112)\n",
        "print(student1)"
      ],
      "execution_count": null,
      "outputs": []
    },
    {
      "cell_type": "code",
      "metadata": {
        "id": "4omf_O--oJxO"
      },
      "source": [
        "student1.courses_taken = [\"Python\",\"OOP\"]\n",
        "print(student1)"
      ],
      "execution_count": null,
      "outputs": []
    },
    {
      "cell_type": "code",
      "metadata": {
        "id": "nnnGRHFXoLxY"
      },
      "source": [
        "student1.courses_taking = [\"Advanced python programming\"]\n",
        "print(student1)"
      ],
      "execution_count": null,
      "outputs": []
    },
    {
      "cell_type": "markdown",
      "metadata": {
        "id": "bL2z0l99oZah"
      },
      "source": [
        "bt4"
      ]
    },
    {
      "cell_type": "code",
      "metadata": {
        "id": "vZpxgPTroagN"
      },
      "source": [
        "from Nematode import Nematode"
      ],
      "execution_count": null,
      "outputs": []
    },
    {
      "cell_type": "code",
      "metadata": {
        "id": "JjiSybf-omfl"
      },
      "source": [
        "nematode1 = Nematode(\"1\",\"male\",\"4\",)\n",
        "print(nematode1)"
      ],
      "execution_count": null,
      "outputs": []
    },
    {
      "cell_type": "markdown",
      "metadata": {
        "id": "g_4Av2KMopEu"
      },
      "source": [
        "bt5"
      ]
    },
    {
      "cell_type": "code",
      "metadata": {
        "id": "s3IOz7kQopwV"
      },
      "source": [
        "from Point import Point\n",
        "from Point import LineSegment"
      ],
      "execution_count": null,
      "outputs": []
    },
    {
      "cell_type": "code",
      "metadata": {
        "id": "UGsmkf9SozNF"
      },
      "source": [
        "segment = LineSegment(Point(1, 1), Point(3, 2))\n",
        "segment.slope()"
      ],
      "execution_count": null,
      "outputs": []
    },
    {
      "cell_type": "code",
      "metadata": {
        "id": "NfPdRjcYo0vp"
      },
      "source": [
        "segment.length()"
      ],
      "execution_count": null,
      "outputs": []
    }
  ]
}